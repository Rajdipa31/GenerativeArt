{
 "cells": [
  {
   "cell_type": "code",
   "execution_count": 2,
   "metadata": {},
   "outputs": [
    {
     "name": "stdout",
     "output_type": "stream",
     "text": [
      "Processing run_id: e56a093a-8f12-11ec-970f-98460aa0000c\n"
     ]
    }
   ],
   "source": [
    "import random\n",
    "import uuid\n",
    "\n",
    "from PIL import Image, ImageDraw\n",
    "\n",
    "run_id = uuid.uuid1()\n",
    "\n",
    "print(f'Processing run_id: {run_id}')\n",
    "\n",
    "image = Image.new('RGB', (2000, 2000))\n",
    "width, height = image.size\n",
    "\n",
    "rectangle_width = 100\n",
    "rectangle_height = 100\n",
    "\n",
    "number_of_squares = random.randint(10, 550)\n",
    "\n",
    "draw_image = ImageDraw.Draw(image)\n",
    "for i in range(number_of_squares):\n",
    "    rectangle_x = random.randint(0, width)\n",
    "    rectangle_y = random.randint(0, height)\n",
    "\n",
    "    rectangle_shape = [\n",
    "        (rectangle_x, rectangle_y),\n",
    "        (rectangle_x + rectangle_width, rectangle_y + rectangle_height)]\n",
    "    draw_image.rectangle(\n",
    "        rectangle_shape,\n",
    "        fill=(\n",
    "            random.randint(0, 255),\n",
    "            random.randint(0, 255),\n",
    "            random.randint(0, 255)\n",
    "        )\n",
    "    )"
   ]
  },
  {
   "cell_type": "code",
   "execution_count": 3,
   "metadata": {},
   "outputs": [],
   "source": [
    "image.save(\"test_image2.png\")"
   ]
  },
  {
   "cell_type": "code",
   "execution_count": null,
   "metadata": {},
   "outputs": [],
   "source": []
  },
  {
   "cell_type": "code",
   "execution_count": null,
   "metadata": {},
   "outputs": [],
   "source": []
  },
  {
   "cell_type": "code",
   "execution_count": null,
   "metadata": {},
   "outputs": [],
   "source": []
  },
  {
   "cell_type": "code",
   "execution_count": null,
   "metadata": {},
   "outputs": [],
   "source": []
  }
 ],
 "metadata": {
  "kernelspec": {
   "display_name": "Python 3",
   "language": "python",
   "name": "python3"
  },
  "language_info": {
   "codemirror_mode": {
    "name": "ipython",
    "version": 3
   },
   "file_extension": ".py",
   "mimetype": "text/x-python",
   "name": "python",
   "nbconvert_exporter": "python",
   "pygments_lexer": "ipython3",
   "version": "3.8.3"
  }
 },
 "nbformat": 4,
 "nbformat_minor": 4
}
