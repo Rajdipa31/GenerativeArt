{
 "cells": [
  {
   "cell_type": "code",
   "execution_count": null,
   "metadata": {},
   "outputs": [],
   "source": []
  },
  {
   "cell_type": "code",
   "execution_count": 1,
   "metadata": {},
   "outputs": [
    {
     "name": "stdout",
     "output_type": "stream",
     "text": [
      "Requirement already satisfied: pillow in /Users/rajdipamitra/opt/anaconda3/lib/python3.8/site-packages (7.2.0)\n",
      "Note: you may need to restart the kernel to use updated packages.\n"
     ]
    }
   ],
   "source": [
    "pip install pillow"
   ]
  },
  {
   "cell_type": "code",
   "execution_count": 2,
   "metadata": {},
   "outputs": [
    {
     "name": "stdout",
     "output_type": "stream",
     "text": [
      "Requirement already satisfied: art in /Users/rajdipamitra/opt/anaconda3/lib/python3.8/site-packages (5.4)\n",
      "Note: you may need to restart the kernel to use updated packages.\n"
     ]
    }
   ],
   "source": [
    "pip install art"
   ]
  },
  {
   "cell_type": "code",
   "execution_count": 3,
   "metadata": {},
   "outputs": [],
   "source": [
    "import random"
   ]
  },
  {
   "cell_type": "code",
   "execution_count": 27,
   "metadata": {},
   "outputs": [
    {
     "name": "stdout",
     "output_type": "stream",
     "text": [
      "Generating Art\n"
     ]
    }
   ],
   "source": [
    "from PIL import Image, ImageDraw\n",
    "\n",
    "def generate_art():\n",
    "    print (\"Generating Art\")\n",
    "    image_size_px = 128\n",
    "    image_bg_colour = (255,255,255)\n",
    "    image = Image.new(\"RGB\",\n",
    "                      size=(image_size_px, image_size_px),\n",
    "                      color=image_bg_colour)\n",
    "    width, height = image.size\n",
    "    \n",
    "    # Draw some lines.\n",
    "    draw = ImageDraw.Draw(image)\n",
    "    n = random.randint(50,100)\n",
    "    for i in range(n):\n",
    "        random_point_1 = random.randint(0, width)\n",
    "        random_point_2 = random.randint(0, height)\n",
    "        Line_xy = ((0,0),(random_point_1, random_point_2))\n",
    "        line_color = (0,0,0)\n",
    "        draw.line(Line_xy, fill = line_color)\n",
    "        image.save(\"test_image2.png\")\n",
    "    \n",
    "    \n",
    "    \n",
    "    \n",
    "    \n",
    "if __name__== \"__main__\":\n",
    "    generate_art()\n",
    "    "
   ]
  },
  {
   "cell_type": "code",
   "execution_count": null,
   "metadata": {},
   "outputs": [],
   "source": []
  },
  {
   "cell_type": "code",
   "execution_count": null,
   "metadata": {},
   "outputs": [],
   "source": []
  }
 ],
 "metadata": {
  "kernelspec": {
   "display_name": "Python 3",
   "language": "python",
   "name": "python3"
  },
  "language_info": {
   "codemirror_mode": {
    "name": "ipython",
    "version": 3
   },
   "file_extension": ".py",
   "mimetype": "text/x-python",
   "name": "python",
   "nbconvert_exporter": "python",
   "pygments_lexer": "ipython3",
   "version": "3.8.3"
  }
 },
 "nbformat": 4,
 "nbformat_minor": 4
}
